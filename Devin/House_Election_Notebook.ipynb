{
 "cells": [
  {
   "cell_type": "code",
   "execution_count": 4,
   "metadata": {},
   "outputs": [],
   "source": [
    "import numpy as np\n",
    "import pandas as pd"
   ]
  },
  {
   "cell_type": "markdown",
   "metadata": {},
   "source": [
    "Read in the data"
   ]
  },
  {
   "cell_type": "code",
   "execution_count": 5,
   "metadata": {},
   "outputs": [],
   "source": [
    "data = pd.read_csv('1976_2018_house.csv', encoding= 'unicode_escape')"
   ]
  },
  {
   "cell_type": "markdown",
   "metadata": {},
   "source": [
    "Choose the years after 2012"
   ]
  },
  {
   "cell_type": "code",
   "execution_count": 6,
   "metadata": {},
   "outputs": [],
   "source": [
    "data = data.loc[data.year >=2014,:]"
   ]
  },
  {
   "cell_type": "markdown",
   "metadata": {},
   "source": [
    "Fill the party NAs with 'I' for Independents"
   ]
  },
  {
   "cell_type": "code",
   "execution_count": 7,
   "metadata": {},
   "outputs": [],
   "source": [
    "data['party']=data.party.fillna('I')"
   ]
  },
  {
   "cell_type": "markdown",
   "metadata": {},
   "source": [
    "Iterate through the party column to choose the first letter for party"
   ]
  },
  {
   "cell_type": "code",
   "execution_count": 8,
   "metadata": {},
   "outputs": [],
   "source": [
    "data['party']= [x[0].upper() for x in data['party']]"
   ]
  },
  {
   "cell_type": "markdown",
   "metadata": {},
   "source": [
    "Choose the biggest political parties in the U.S."
   ]
  },
  {
   "cell_type": "code",
   "execution_count": 9,
   "metadata": {},
   "outputs": [],
   "source": [
    "data = data.loc[((data['party'] =='D') | (data['party'] == 'R') | (data['party'] == 'L') | (data['party'] == 'I') | (data['party'] == 'G') | (data['party'] == 'C')),:]"
   ]
  },
  {
   "cell_type": "markdown",
   "metadata": {},
   "source": [
    "Drop columns we don't need"
   ]
  },
  {
   "cell_type": "code",
   "execution_count": 10,
   "metadata": {},
   "outputs": [],
   "source": [
    "data = data.drop(columns = [\"state_po\", \"state_ic\", \"office\", \"stage\", \"runoff\", \"special\", \"mode\", \"unofficial\", \"version\", \"writein\", \\\n",
    "                           \"state_fips\", \"state_cen\"])"
   ]
  },
  {
   "cell_type": "markdown",
   "metadata": {},
   "source": [
    "Rename the columns"
   ]
  },
  {
   "cell_type": "code",
   "execution_count": 11,
   "metadata": {},
   "outputs": [],
   "source": [
    "data = data.rename(columns={\"candidatevotes\": \"candidate_votes\",\"totalvotes\":\"total_votes\"})"
   ]
  },
  {
   "cell_type": "markdown",
   "metadata": {},
   "source": [
    "Reset and set the index"
   ]
  },
  {
   "cell_type": "code",
   "execution_count": 12,
   "metadata": {},
   "outputs": [],
   "source": [
    "data= data.reset_index()\n",
    "data = data.drop(columns = [\"index\"])"
   ]
  },
  {
   "cell_type": "markdown",
   "metadata": {},
   "source": [
    "Create the percent won column to get the winning party and candidate"
   ]
  },
  {
   "cell_type": "code",
   "execution_count": 13,
   "metadata": {},
   "outputs": [],
   "source": [
    "data['pct_won']= round((data['candidate_votes']/data['total_votes'])*100,2)"
   ]
  },
  {
   "cell_type": "markdown",
   "metadata": {},
   "source": [
    "Read in the state abbreviations dataset"
   ]
  },
  {
   "cell_type": "code",
   "execution_count": 14,
   "metadata": {},
   "outputs": [],
   "source": [
    "state = pd.read_csv('state-abbrevs.csv')"
   ]
  },
  {
   "cell_type": "markdown",
   "metadata": {},
   "source": [
    "Merge the two datasets"
   ]
  },
  {
   "cell_type": "code",
   "execution_count": 15,
   "metadata": {},
   "outputs": [],
   "source": [
    "data = pd.merge(left=data, right=state, how='inner', on = 'state')"
   ]
  },
  {
   "cell_type": "markdown",
   "metadata": {},
   "source": [
    "Create the state district column"
   ]
  },
  {
   "cell_type": "code",
   "execution_count": 16,
   "metadata": {},
   "outputs": [],
   "source": [
    "data['state_dist'] = data['abbreviation'].astype(str) + '-'+ data['district'].astype(str)"
   ]
  },
  {
   "cell_type": "markdown",
   "metadata": {},
   "source": [
    "Choose the candidates with the highest votes in each district for each year"
   ]
  },
  {
   "cell_type": "code",
   "execution_count": 17,
   "metadata": {},
   "outputs": [
    {
     "name": "stderr",
     "output_type": "stream",
     "text": [
      "C:\\Users\\devin\\Anaconda3\\lib\\site-packages\\ipykernel_launcher.py:1: FutureWarning: Indexing with multiple keys (implicitly converted to a tuple of keys) will be deprecated, use a list instead.\n",
      "  \"\"\"Entry point for launching an IPython kernel.\n"
     ]
    }
   ],
   "source": [
    "data = data.groupby(['state_dist','year'])['candidate_votes', 'pct_won'].agg('max').reset_index()"
   ]
  },
  {
   "cell_type": "markdown",
   "metadata": {},
   "source": [
    "Recreate the original dataframe"
   ]
  },
  {
   "cell_type": "code",
   "execution_count": 21,
   "metadata": {},
   "outputs": [],
   "source": [
    "house_elections = pd.read_csv('1976_2018_house.csv', encoding= 'unicode_escape')\n",
    "house_elections['party']=house_elections.party.fillna('I')\n",
    "house_elections['party']= [x[0].upper() for x in house_elections['party']]\n",
    "house_elections = house_elections.loc[((house_elections['party'] =='D') | (house_elections['party'] == 'R') | (house_elections['party'] == 'L') | (house_elections['party'] == 'I') | (house_elections['party'] == 'G') | (house_elections['party'] == 'C')),:]\n",
    "house_elections = house_elections.drop(columns = [\"state_po\", \"state_ic\", \"office\", \"stage\", \"runoff\", \"special\", \"mode\", \"unofficial\", \"version\", \"writein\", \\\n",
    "                           \"state_fips\", \"state_cen\"])\n",
    "house_elections = house_elections.rename(columns={\"candidatevotes\": \"candidate_votes\",\"totalvotes\":\"total_votes\"})\n",
    "house_elections= house_elections.reset_index()\n",
    "house_elections = house_elections.drop(columns = [\"index\"])\n",
    "house_elections['pct_won']= round((house_elections['candidate_votes']/house_elections['total_votes'])*100,2)\n",
    "house_elections = pd.merge(left=house_elections, right=state, how='inner', on = 'state')\n",
    "house_elections['state_dist'] = house_elections['abbreviation'].astype(str) + '-'+ house_elections['district'].astype(str)\n"
   ]
  },
  {
   "cell_type": "markdown",
   "metadata": {},
   "source": [
    "Save the original dataframe into data2"
   ]
  },
  {
   "cell_type": "code",
   "execution_count": 22,
   "metadata": {},
   "outputs": [],
   "source": [
    "data2 = house_elections"
   ]
  },
  {
   "cell_type": "markdown",
   "metadata": {},
   "source": [
    "Merge the groupby dataframe and the original dataframe"
   ]
  },
  {
   "cell_type": "code",
   "execution_count": 23,
   "metadata": {},
   "outputs": [],
   "source": [
    "data3 = pd.merge(left=data2, right=data, how='inner', left_on=['candidate_votes','state_dist', 'year'], right_on=['candidate_votes','state_dist', 'year'])"
   ]
  },
  {
   "cell_type": "markdown",
   "metadata": {},
   "source": [
    "Drop the columns we don't need"
   ]
  },
  {
   "cell_type": "code",
   "execution_count": 24,
   "metadata": {},
   "outputs": [],
   "source": [
    "data3 = data3.drop(columns = ['district', 'candidate_votes', 'candidate', 'pct_won_y', 'abbreviation', 'state', 'total_votes'])"
   ]
  },
  {
   "cell_type": "markdown",
   "metadata": {},
   "source": [
    "Rename the pct_won column correctly"
   ]
  },
  {
   "cell_type": "code",
   "execution_count": 25,
   "metadata": {},
   "outputs": [],
   "source": [
    "data3 = data3.rename(columns= {'pct_won_x': 'pct_won'})"
   ]
  },
  {
   "cell_type": "code",
   "execution_count": 29,
   "metadata": {},
   "outputs": [
    {
     "data": {
      "text/html": [
       "<div>\n",
       "<style scoped>\n",
       "    .dataframe tbody tr th:only-of-type {\n",
       "        vertical-align: middle;\n",
       "    }\n",
       "\n",
       "    .dataframe tbody tr th {\n",
       "        vertical-align: top;\n",
       "    }\n",
       "\n",
       "    .dataframe thead th {\n",
       "        text-align: right;\n",
       "    }\n",
       "</style>\n",
       "<table border=\"1\" class=\"dataframe\">\n",
       "  <thead>\n",
       "    <tr style=\"text-align: right;\">\n",
       "      <th></th>\n",
       "      <th>year</th>\n",
       "      <th>party</th>\n",
       "      <th>pct_won</th>\n",
       "      <th>state_dist</th>\n",
       "    </tr>\n",
       "  </thead>\n",
       "  <tbody>\n",
       "    <tr>\n",
       "      <th>0</th>\n",
       "      <td>2014</td>\n",
       "      <td>R</td>\n",
       "      <td>68.16</td>\n",
       "      <td>AL-1</td>\n",
       "    </tr>\n",
       "    <tr>\n",
       "      <th>1</th>\n",
       "      <td>2014</td>\n",
       "      <td>R</td>\n",
       "      <td>67.34</td>\n",
       "      <td>AL-2</td>\n",
       "    </tr>\n",
       "    <tr>\n",
       "      <th>2</th>\n",
       "      <td>2014</td>\n",
       "      <td>R</td>\n",
       "      <td>66.12</td>\n",
       "      <td>AL-3</td>\n",
       "    </tr>\n",
       "    <tr>\n",
       "      <th>3</th>\n",
       "      <td>2014</td>\n",
       "      <td>R</td>\n",
       "      <td>98.57</td>\n",
       "      <td>AL-4</td>\n",
       "    </tr>\n",
       "    <tr>\n",
       "      <th>4</th>\n",
       "      <td>2014</td>\n",
       "      <td>R</td>\n",
       "      <td>74.42</td>\n",
       "      <td>AL-5</td>\n",
       "    </tr>\n",
       "    <tr>\n",
       "      <th>...</th>\n",
       "      <td>...</td>\n",
       "      <td>...</td>\n",
       "      <td>...</td>\n",
       "      <td>...</td>\n",
       "    </tr>\n",
       "    <tr>\n",
       "      <th>1300</th>\n",
       "      <td>2018</td>\n",
       "      <td>R</td>\n",
       "      <td>60.11</td>\n",
       "      <td>WI-7</td>\n",
       "    </tr>\n",
       "    <tr>\n",
       "      <th>1301</th>\n",
       "      <td>2018</td>\n",
       "      <td>R</td>\n",
       "      <td>63.69</td>\n",
       "      <td>WI-8</td>\n",
       "    </tr>\n",
       "    <tr>\n",
       "      <th>1302</th>\n",
       "      <td>2014</td>\n",
       "      <td>R</td>\n",
       "      <td>66.05</td>\n",
       "      <td>WY-0</td>\n",
       "    </tr>\n",
       "    <tr>\n",
       "      <th>1303</th>\n",
       "      <td>2016</td>\n",
       "      <td>R</td>\n",
       "      <td>60.35</td>\n",
       "      <td>WY-0</td>\n",
       "    </tr>\n",
       "    <tr>\n",
       "      <th>1304</th>\n",
       "      <td>2018</td>\n",
       "      <td>R</td>\n",
       "      <td>63.59</td>\n",
       "      <td>WY-0</td>\n",
       "    </tr>\n",
       "  </tbody>\n",
       "</table>\n",
       "<p>1305 rows × 4 columns</p>\n",
       "</div>"
      ],
      "text/plain": [
       "      year party  pct_won state_dist\n",
       "0     2014     R    68.16       AL-1\n",
       "1     2014     R    67.34       AL-2\n",
       "2     2014     R    66.12       AL-3\n",
       "3     2014     R    98.57       AL-4\n",
       "4     2014     R    74.42       AL-5\n",
       "...    ...   ...      ...        ...\n",
       "1300  2018     R    60.11       WI-7\n",
       "1301  2018     R    63.69       WI-8\n",
       "1302  2014     R    66.05       WY-0\n",
       "1303  2016     R    60.35       WY-0\n",
       "1304  2018     R    63.59       WY-0\n",
       "\n",
       "[1305 rows x 4 columns]"
      ]
     },
     "execution_count": 29,
     "metadata": {},
     "output_type": "execute_result"
    }
   ],
   "source": [
    "data3"
   ]
  },
  {
   "cell_type": "markdown",
   "metadata": {},
   "source": [
    "Save the dataset"
   ]
  },
  {
   "cell_type": "code",
   "execution_count": 26,
   "metadata": {},
   "outputs": [],
   "source": [
    "data3.to_csv(\"house_elections_final.csv\", index=False)"
   ]
  },
  {
   "cell_type": "code",
   "execution_count": null,
   "metadata": {},
   "outputs": [],
   "source": []
  }
 ],
 "metadata": {
  "kernelspec": {
   "display_name": "Python 3",
   "language": "python",
   "name": "python3"
  },
  "language_info": {
   "codemirror_mode": {
    "name": "ipython",
    "version": 3
   },
   "file_extension": ".py",
   "mimetype": "text/x-python",
   "name": "python",
   "nbconvert_exporter": "python",
   "pygments_lexer": "ipython3",
   "version": "3.7.6"
  }
 },
 "nbformat": 4,
 "nbformat_minor": 4
}
